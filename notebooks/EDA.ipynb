{
 "cells": [
  {
   "cell_type": "markdown",
   "id": "3ed17350",
   "metadata": {},
   "source": [
    "# EDA: MatBench Band Gap"
   ]
  },
  {
   "cell_type": "code",
   "execution_count": null,
   "id": "4b01672b",
   "metadata": {},
   "outputs": [],
   "source": [
    "# If running in a fresh environment, install these first:\n",
    "# !pip install matminer pymatgen pandas numpy matplotlib seaborn\n",
    "\n",
    "from matminer.datasets import load_dataset\n",
    "import pandas as pd\n",
    "import matplotlib.pyplot as plt\n",
    "\n",
    "df = load_dataset(\"matbench_v0.1_band_gap\")\n",
    "print(df.head())\n",
    "print(df.describe(include='all'))\n",
    "\n",
    "# Histogram of band gaps\n",
    "plt.figure()\n",
    "df['band_gap'].hist(bins=50)\n",
    "plt.xlabel(\"Band gap (eV)\")\n",
    "plt.ylabel(\"Count\")\n",
    "plt.title(\"Distribution of Band Gaps\")\n",
    "plt.show()\n"
   ]
  },
  {
   "cell_type": "markdown",
   "id": "7ab1f004",
   "metadata": {},
   "source": [
    "## Structure preview (optional)"
   ]
  },
  {
   "cell_type": "code",
   "execution_count": null,
   "id": "b3d52207",
   "metadata": {},
   "outputs": [],
   "source": [
    "# Quick peek into the first structure\n",
    "s = df.iloc[0]['structure']\n",
    "s\n"
   ]
  }
 ],
 "metadata": {},
 "nbformat": 4,
 "nbformat_minor": 5
}
